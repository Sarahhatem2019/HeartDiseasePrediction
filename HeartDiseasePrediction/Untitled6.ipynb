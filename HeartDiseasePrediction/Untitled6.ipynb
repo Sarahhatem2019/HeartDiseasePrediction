{
  "cells": [
    {
      "cell_type": "code",
      "execution_count": 37,
      "metadata": {
        "colab": {
          "base_uri": "https://localhost:8080/"
        },
        "id": "BbJeYaCyNsuZ",
        "outputId": "9e34372d-23e9-4df4-89a8-d4d00329476c"
      },
      "outputs": [
        {
          "name": "stdout",
          "output_type": "stream",
          "text": [
            "   age  sex  cp  trestbps  chol  fbs  restecg  thalach  exang  oldpeak  slope  \\\n",
            "0   63    1   3       145   233    1        0      150      0      2.3      0   \n",
            "1   37    1   2       130   250    0        1      187      0      3.5      0   \n",
            "2   41    0   1       130   204    0        0      172      0      1.4      2   \n",
            "3   56    1   1       120   236    0        1      178      0      0.8      2   \n",
            "4   57    0   0       120   354    0        1      163      1      0.6      2   \n",
            "\n",
            "   ca  thal  target  \n",
            "0   0     1       1  \n",
            "1   0     2       1  \n",
            "2   0     2       1  \n",
            "3   0     2       1  \n",
            "4   0     2       1  \n",
            "(303, 14)\n"
          ]
        }
      ],
      "source": [
        "import pandas as pd\n",
        "import numpy as np\n",
        "import matplotlib.pyplot as plt\n",
        "import seaborn as sns\n",
        "#import cufflinks as cf\n",
        "%matplotlib inline\n",
        "from nltk import DecisionTreeClassifier, accuracy, metrics\n",
        "from sklearn.linear_model import LogisticRegression\n",
        "from sklearn.metrics import classification_report,confusion_matrix,accuracy_score\n",
        "from sklearn.preprocessing import StandardScaler\n",
        "from sklearn.model_selection import  RandomizedSearchCV, train_test_split\n",
        "#from xgboost import XGBClassifier\n",
        "\n",
        "from sklearn.ensemble import RandomForestClassifier\n",
        "from sklearn.neighbors import KNeighborsClassifier\n",
        "from sklearn.svm import SVC\n",
        "from sklearn.impute import  SimpleImputer\n",
        "#\"reade csv file \"\n",
        "data = pd.read_csv(\"D:\\Documents\\Ganna allah khaled\\courses\\data mining\\heart.csv\")\n",
        "print(data.head())\n",
        "print(data.shape)"
      ]
    },
    {
      "cell_type": "code",
      "execution_count": 38,
      "metadata": {
        "id": "SoNVRApmO5g2"
      },
      "outputs": [
        {
          "name": "stdout",
          "output_type": "stream",
          "text": [
            "     age  sex  cp  trestbps  chol  fbs  restecg  thalach  exang  oldpeak  \\\n",
            "0     63    1   3       145   233    1        0      150      0      2.3   \n",
            "1     37    1   2       130   250    0        1      187      0      3.5   \n",
            "2     41    0   1       130   204    0        0      172      0      1.4   \n",
            "3     56    1   1       120   236    0        1      178      0      0.8   \n",
            "4     57    0   0       120   354    0        1      163      1      0.6   \n",
            "..   ...  ...  ..       ...   ...  ...      ...      ...    ...      ...   \n",
            "298   57    0   0       140   241    0        1      123      1      0.2   \n",
            "299   45    1   3       110   264    0        1      132      0      1.2   \n",
            "300   68    1   0       144   193    1        1      141      0      3.4   \n",
            "301   57    1   0       130   131    0        1      115      1      1.2   \n",
            "302   57    0   1       130   236    0        0      174      0      0.0   \n",
            "\n",
            "     slope  ca  thal  target  \n",
            "0        0   0     1       1  \n",
            "1        0   0     2       1  \n",
            "2        2   0     2       1  \n",
            "3        2   0     2       1  \n",
            "4        2   0     2       1  \n",
            "..     ...  ..   ...     ...  \n",
            "298      1   0     3       0  \n",
            "299      1   0     3       0  \n",
            "300      1   2     3       0  \n",
            "301      1   1     3       0  \n",
            "302      1   1     2       0  \n",
            "\n",
            "[302 rows x 14 columns]\n",
            "     age  sex  cp  trestbps  chol  fbs  restecg  thalach  exang  oldpeak  \\\n",
            "0     63    1   3       145   233    1        0      150      0      2.3   \n",
            "1     37    1   2       130   250    0        1      187      0      3.5   \n",
            "2     41    0   1       130   204    0        0      172      0      1.4   \n",
            "3     56    1   1       120   236    0        1      178      0      0.8   \n",
            "4     57    0   0       120   354    0        1      163      1      0.6   \n",
            "..   ...  ...  ..       ...   ...  ...      ...      ...    ...      ...   \n",
            "298   57    0   0       140   241    0        1      123      1      0.2   \n",
            "299   45    1   3       110   264    0        1      132      0      1.2   \n",
            "300   68    1   0       144   193    1        1      141      0      3.4   \n",
            "301   57    1   0       130   131    0        1      115      1      1.2   \n",
            "302   57    0   1       130   236    0        0      174      0      0.0   \n",
            "\n",
            "     slope   ca  thal  target  \n",
            "0        0  0.0   1.0       1  \n",
            "1        0  0.0   2.0       1  \n",
            "2        2  0.0   2.0       1  \n",
            "3        2  0.0   2.0       1  \n",
            "4        2  0.0   2.0       1  \n",
            "..     ...  ...   ...     ...  \n",
            "298      1  0.0   3.0       0  \n",
            "299      1  0.0   3.0       0  \n",
            "300      1  2.0   3.0       0  \n",
            "301      1  1.0   3.0       0  \n",
            "302      1  1.0   2.0       0  \n",
            "\n",
            "[302 rows x 14 columns]\n",
            "##############################################\n",
            "age          0\n",
            "sex          0\n",
            "cp           0\n",
            "trestbps     9\n",
            "chol         5\n",
            "fbs         45\n",
            "restecg      0\n",
            "thalach      1\n",
            "exang        0\n",
            "oldpeak      5\n",
            "slope        0\n",
            "ca          20\n",
            "thal         0\n",
            "target       0\n",
            "dtype: int64\n",
            "age         0\n",
            "sex         0\n",
            "cp          0\n",
            "trestbps    0\n",
            "chol        0\n",
            "fbs         0\n",
            "restecg     0\n",
            "thalach     0\n",
            "exang       0\n",
            "oldpeak     0\n",
            "slope       0\n",
            "ca          0\n",
            "thal        0\n",
            "target      0\n",
            "dtype: int64\n",
            "#########################################################\n",
            "      age  sex   cp  trestbps   chol  fbs  restecg  thalach  exang  oldpeak  \\\n",
            "0    63.0  1.0  3.0     145.0  233.0  0.0      0.0    150.0    0.0      2.3   \n",
            "1    37.0  1.0  2.0     130.0  250.0  0.0      1.0    187.0    0.0      3.5   \n",
            "2    41.0  0.0  1.0     130.0  204.0  0.0      0.0    172.0    0.0      1.4   \n",
            "3    56.0  1.0  1.0     120.0  236.0  0.0      1.0    178.0    0.0      0.8   \n",
            "4    57.0  0.0  0.0     120.0  354.0  0.0      1.0    163.0    1.0      0.6   \n",
            "..    ...  ...  ...       ...    ...  ...      ...      ...    ...      ...   \n",
            "298  57.0  0.0  0.0     140.0  241.0  0.0      1.0    123.0    1.0      0.2   \n",
            "299  45.0  1.0  3.0     110.0  264.0  0.0      1.0    132.0    0.0      1.2   \n",
            "300  68.0  1.0  0.0     144.0  193.0  0.0      1.0    141.0    0.0      3.4   \n",
            "301  57.0  1.0  0.0     130.0  131.0  0.0      1.0    115.0    1.0      1.2   \n",
            "302  57.0  0.0  1.0     130.0  236.0  0.0      0.0    174.0    0.0      0.0   \n",
            "\n",
            "     slope   ca  thal  target  \n",
            "0      0.0  0.0   1.0     1.0  \n",
            "1      0.0  0.0   2.0     1.0  \n",
            "2      2.0  0.0   2.0     1.0  \n",
            "3      2.0  0.0   2.0     1.0  \n",
            "4      2.0  0.0   2.0     1.0  \n",
            "..     ...  ...   ...     ...  \n",
            "298    1.0  0.0   3.0     0.0  \n",
            "299    1.0  0.0   3.0     0.0  \n",
            "300    1.0  2.0   3.0     0.0  \n",
            "301    1.0  1.0   3.0     0.0  \n",
            "302    1.0  1.0   2.0     0.0  \n",
            "\n",
            "[302 rows x 14 columns]\n"
          ]
        }
      ],
      "source": [
        "data.drop_duplicates(keep = 'first', inplace = True)#remove duplicate rows\n",
        "print(data)\n",
        "\n",
        "#remove values not in the range of features\n",
        "data.loc[data['ca']==4,'ca']=np.NAN\n",
        "data.loc[data['thal'] ==0,'thal']=np.NAN\n",
        "\n",
        "\n",
        "#data=data.dropna(axis=0)\n",
        "\n",
        "data = data.fillna(data.median())\n",
        "#data.isnull().sum()\n",
        "print(data)\n",
        "print(\"##############################################\")\n",
        "#figure that describe the outliers of features\n",
        "\n",
        "\n",
        "#remove outliers\n",
        "for x in data:\n",
        "    q75,q25 = np.percentile(data.loc[:,x],[75,25])\n",
        "    intr_qr = q75-q25\n",
        "\n",
        "    max = q75+(1.5*intr_qr)\n",
        "    min = q25-(1.5*intr_qr)\n",
        "\n",
        "    data.loc[data[x] < min,x] = np.nan\n",
        "    data.loc[data[x] > max,x] = np.nan\n",
        "print(data.isnull().sum())\n",
        "\n",
        "#data = data.dropna(axis = 0)\n",
        "data = data.fillna(data.median())\n",
        "#data.isnull().sum()\n",
        "print(data.isnull().sum())\n",
        "\n",
        "print(\"#########################################################\")\n",
        "print(data)"
      ]
    },
    {
      "cell_type": "code",
      "execution_count": 40,
      "metadata": {
        "colab": {
          "base_uri": "https://localhost:8080/"
        },
        "id": "MX4sRZKtPAid",
        "outputId": "84fcfdf7-95af-44e9-90f3-146ee32d3c60"
      },
      "outputs": [
        {
          "name": "stdout",
          "output_type": "stream",
          "text": [
            "The accuracy score achieved using KNN is: 67.21 %\n",
            "The accuracy score achieved using Naive Bayes is: 88.52 %\n",
            "The accuracy score achieved using Decision Tree is: 90.16 %\n",
            "                 0.0        1.0  accuracy  macro avg  weighted avg\n",
            "precision   0.862069   0.937500  0.901639   0.899784      0.904112\n",
            "recall      0.925926   0.882353  0.901639   0.904139      0.901639\n",
            "f1-score    0.892857   0.909091  0.901639   0.900974      0.901905\n",
            "support    27.000000  34.000000  0.901639  61.000000     61.000000\n",
            "The accuracy score achieved using random classifier is: 91.8 %\n"
          ]
        }
      ],
      "source": [
        "from sklearn.model_selection import train_test_split\n",
        "\n",
        "predictors = data.drop(\"target\",axis=1)\n",
        "target = data[\"target\"]\n",
        "\n",
        "X_train,X_test,Y_train,Y_test = train_test_split(predictors,target,test_size=0.20,random_state=0)\n",
        "\n",
        "\n",
        "knn = KNeighborsClassifier(n_neighbors = 8)\n",
        "knn.fit(X_train,Y_train)\n",
        "y_pred1 = knn.predict(X_test)\n",
        "score_nb = round(accuracy_score(y_pred1,Y_test)*100,2)\n",
        "\n",
        "print(\"The accuracy score achieved using KNN is: \"+str(score_nb)+\" %\")\n",
        "\n",
        "from sklearn.naive_bayes import GaussianNB\n",
        "\n",
        "nb = GaussianNB()\n",
        "\n",
        "nb.fit(X_train,Y_train)\n",
        "\n",
        "Y_pred_nb = nb.predict(X_test)\n",
        "score_nb = round(accuracy_score(Y_pred_nb,Y_test)*100,2)\n",
        "\n",
        "print(\"The accuracy score achieved using Naive Bayes is: \"+str(score_nb)+\" %\")\n",
        "\n",
        "from sklearn.tree import DecisionTreeClassifier\n",
        "\n",
        "max_accuracy = 0\n",
        "\n",
        "for x in range(302):\n",
        "    dt = DecisionTreeClassifier(random_state=x)\n",
        "    dt.fit(X_train, Y_train)\n",
        "    Y_pred_dt = dt.predict(X_test)\n",
        "    current_accuracy = round(accuracy_score(Y_pred_dt, Y_test) * 100, 2)\n",
        "    if (current_accuracy > max_accuracy):\n",
        "        max_accuracy = current_accuracy\n",
        "        best_x = x\n",
        "\n",
        "\n",
        "\n",
        "\n",
        "dt = DecisionTreeClassifier(random_state=best_x)\n",
        "dt.fit(X_train, Y_train)\n",
        "Y_pred_dt = dt.predict(X_test)\n",
        "score_dt = round(accuracy_score(Y_pred_dt,Y_test)*100,2)\n",
        "clf_report = pd.DataFrame(classification_report(Y_test, Y_pred_dt, output_dict=True))\n",
        "print(\"The accuracy score achieved using Decision Tree is: \"+str(score_dt)+\" %\")\n",
        "print(clf_report)\n",
        "\n",
        "from sklearn.ensemble import RandomForestClassifier\n",
        "\n",
        "max_accuracy = 0\n",
        "\n",
        "for x in range(302):\n",
        "    rf = RandomForestClassifier(random_state=x)\n",
        "    rf.fit(X_train, Y_train)\n",
        "    Y_pred_rf = rf.predict(X_test)\n",
        "    current_accuracy = round(accuracy_score(Y_pred_rf, Y_test) * 100, 2)\n",
        "    if (current_accuracy > max_accuracy):\n",
        "        max_accuracy = current_accuracy\n",
        "        best_x = x\n",
        "\n",
        "\n",
        "\n",
        "rf = RandomForestClassifier(random_state=best_x)\n",
        "rf.fit(X_train, Y_train)\n",
        "Y_pred_rf = rf.predict(X_test)\n",
        "\n",
        "score_rf = round(accuracy_score(Y_pred_rf,Y_test)*100,2)\n",
        "\n",
        "print(\"The accuracy score achieved using random classifier is: \"+str(score_rf)+\" %\")"
      ]
    },
    {
      "cell_type": "code",
      "execution_count": null,
      "metadata": {
        "id": "5PMBPYVRPepR"
      },
      "outputs": [],
      "source": [
        "plt.figure(figsize=(20,12))\n",
        "sns.set_context('notebook',font_scale = 1.3)\n",
        "sns.heatmap(data.corr(),annot=True,linewidth =2)\n",
        "plt.tight_layout()\n",
        "plt.show()"
      ]
    },
    {
      "cell_type": "code",
      "execution_count": null,
      "metadata": {
        "colab": {
          "base_uri": "https://localhost:8080/",
          "height": 488
        },
        "id": "Ia2BrMNEPnZH",
        "outputId": "f53f9c89-a68d-46bb-cba5-4c24be9dd237"
      },
      "outputs": [],
      "source": [
        "sns.set_context('notebook',font_scale = 2.3)\n",
        "data.drop('target', axis=1).corrwith(data.target).plot(kind='bar', grid=True, figsize=(20, 10),\n",
        "title=\"Correlation with the target feature\")\n",
        "plt.tight_layout()\n",
        "plt.show()"
      ]
    },
    {
      "cell_type": "code",
      "execution_count": null,
      "metadata": {
        "colab": {
          "base_uri": "https://localhost:8080/",
          "height": 478
        },
        "id": "qZiKO2QQPtez",
        "outputId": "e84f002c-0624-4daa-f3da-8c1a232efeec"
      },
      "outputs": [],
      "source": [
        "plt.figure(figsize=(25,12))\n",
        "sns.set_context('notebook',font_scale = 1.5)\n",
        "sns.barplot(x=data.age.value_counts()[:10].index,y=data.age.value_counts()[:10].values)\n",
        "plt.tight_layout()\n",
        "\"from figure we can see that the 58 age column has the highest frequency.\""
      ]
    },
    {
      "cell_type": "code",
      "execution_count": null,
      "metadata": {
        "colab": {
          "base_uri": "https://localhost:8080/",
          "height": 328
        },
        "id": "5W35lJ8CW4EM",
        "outputId": "c2048c96-1009-4ffa-ef62-cbfdc0a03063"
      },
      "outputs": [],
      "source": [
        "\" divide the Age feature into three parts  “Young”, “Middle” and “Elder”\"\n",
        "Young = data[(data.age>=29)&(data.age<40)]\n",
        "Middle = data[(data.age>=40)&(data.age<55)]\n",
        "Elder = data[(data.age>55)]\n",
        "\n",
        "plt.figure(figsize=(23,10))\n",
        "sns.set_context('notebook',font_scale = 1.5)\n",
        "sns.barplot(x=['young ages','middle ages','elderly ages'],y=[len(Young),len(Middle),len(Elder)])\n",
        "plt.tight_layout()\n",
        "\n",
        "\"we can see that elder people are the most affected by heart disease and young ones are the least affected.\""
      ]
    },
    {
      "cell_type": "code",
      "execution_count": null,
      "metadata": {},
      "outputs": [],
      "source": [
        "colors = ['blue','green','yellow']\n",
        "explode = [0,0,0.1]\n",
        "plt.figure(figsize=(10,10))\n",
        "sns.set_context('notebook',font_scale = 1.2)\n",
        "plt.pie([len(Young),len(Middle),len(Elder)],labels=['young ages','middle ages','elderly ages'],explode=explode,colors=colors, autopct='%1.1f%%')\n",
        "plt.tight_layout()\n",
        "\"to prove above inference\""
      ]
    },
    {
      "cell_type": "code",
      "execution_count": null,
      "metadata": {},
      "outputs": [],
      "source": [
        "plt.figure(figsize=(18,9))\n",
        "sns.set_context('notebook',font_scale = 1.5)\n",
        "sns.countplot(data['sex'])\n",
        "plt.tight_layout()"
      ]
    },
    {
      "cell_type": "code",
      "execution_count": null,
      "metadata": {},
      "outputs": [],
      "source": [
        "\"let’s plot the relation between sex and slope.\"\n",
        "plt.figure(figsize=(18,9))\n",
        "sns.set_context('notebook',font_scale = 1.5)\n",
        "sns.countplot(data['sex'],hue=data[\"slope\"])\n",
        "plt.tight_layout()\n",
        "\"Inference: Here it is clearly visible that the slope value is higher in the case of males(1).\""
      ]
    },
    {
      "cell_type": "code",
      "execution_count": null,
      "metadata": {},
      "outputs": [],
      "source": [
        "\"Chest Pain Type(“cp”) Analysis\"\n",
        "plt.figure(figsize=(18,9))\n",
        "sns.set_context('notebook',font_scale = 1.5)\n",
        "sns.countplot(data['cp'])\n",
        "plt.tight_layout()\n",
        "\"Inference: As seen, there are 4 types of chest pain\""
      ]
    },
    {
      "cell_type": "code",
      "execution_count": null,
      "metadata": {},
      "outputs": [],
      "source": [
        "\"Analyzing cp vs target column\"\n",
        "plt.figure(figsize=(18,9))\n",
        "sns.set_context('notebook',font_scale = 1.5)\n",
        "sns.countplot(data['cp'],hue=data[\"slope\"])\n",
        "plt.tight_layout()\n",
        "\"Inference: From the above graph we can make some inferences\",\n",
        "\n",
        "\"People having the least chest pain are not likely to have heart disease.\"\n",
        "\"People having severe chest pain are likely to have heart disease.\"\n",
        "\"Elderly people are more likely to have chest pain.\""
      ]
    },
    {
      "cell_type": "code",
      "execution_count": null,
      "metadata": {},
      "outputs": [],
      "source": [
        "\"Thal Analysis\"\n",
        "plt.figure(figsize=(18,9))\n",
        "sns.set_context('notebook',font_scale = 1.5)\n",
        "sns.countplot(data['thal'])\n",
        "plt.tight_layout()"
      ]
    },
    {
      "cell_type": "code",
      "execution_count": null,
      "metadata": {},
      "outputs": [],
      "source": [
        "data.target.value_counts()"
      ]
    },
    {
      "cell_type": "code",
      "execution_count": null,
      "metadata": {},
      "outputs": [],
      "source": [
        "plt.figure(figsize=(18,9))\n",
        "sns.set_context('notebook',font_scale = 1.5)\n",
        "sns.countplot(data['target'])\n",
        "plt.tight_layout()"
      ]
    }
  ],
  "metadata": {
    "colab": {
      "name": "Untitled6.ipynb",
      "provenance": []
    },
    "interpreter": {
      "hash": "4812294c6f66d1324ff60e8be9c61f62a5f209d02eb7146b1d2633c46157a481"
    },
    "kernelspec": {
      "display_name": "Python 3.9.7 ('base')",
      "language": "python",
      "name": "python3"
    },
    "language_info": {
      "codemirror_mode": {
        "name": "ipython",
        "version": 3
      },
      "file_extension": ".py",
      "mimetype": "text/x-python",
      "name": "python",
      "nbconvert_exporter": "python",
      "pygments_lexer": "ipython3",
      "version": "3.9.7"
    }
  },
  "nbformat": 4,
  "nbformat_minor": 0
}
